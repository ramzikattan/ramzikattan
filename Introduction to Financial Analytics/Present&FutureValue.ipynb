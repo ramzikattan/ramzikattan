{
 "cells": [
  {
   "cell_type": "markdown",
   "id": "3470c68b-1c6d-411b-be8c-c63bd295db66",
   "metadata": {},
   "source": [
    "### Problem 6"
   ]
  },
  {
   "cell_type": "code",
   "execution_count": 37,
   "id": "ae4c10f4-9c8d-47cf-a137-edee806127b0",
   "metadata": {},
   "outputs": [
    {
     "name": "stdin",
     "output_type": "stream",
     "text": [
      "\n",
      "Please input which problem you'd like to solve; a present value (1) or future value (2) problem: 1\n"
     ]
    },
    {
     "name": "stdout",
     "output_type": "stream",
     "text": [
      "\n",
      "Present Value Problem\n",
      "\n"
     ]
    },
    {
     "name": "stdin",
     "output_type": "stream",
     "text": [
      "Discount Rate (%):  15\n",
      "\n",
      "Number of distinct discrete forecasts:  0\n",
      "\n",
      "Number of distinct growth periods:  2\n",
      "Annuity cash flow in first year of growth phase:  1000\n"
     ]
    },
    {
     "name": "stdout",
     "output_type": "stream",
     "text": [
      "\n",
      "Please provide the following information for distinct growth year 1.\n"
     ]
    },
    {
     "name": "stdin",
     "output_type": "stream",
     "text": [
      "Growth Rate (%):  10\n",
      "What is the length of this phase (years):  5\n"
     ]
    },
    {
     "name": "stdout",
     "output_type": "stream",
     "text": [
      "\n",
      "Please provide the following information for distinct growth year 2.\n"
     ]
    },
    {
     "name": "stdin",
     "output_type": "stream",
     "text": [
      "Growth Rate (%):  4\n",
      "Is this last phase an annuity (1) or perpituity (2):  2\n"
     ]
    },
    {
     "name": "stdout",
     "output_type": "stream",
     "text": [
      "Discrete Forcast #1: $4,384.42\n",
      "Growth Phase #2: $7,570.33\n",
      "\n",
      "Total Present Value: $11,954.75\n"
     ]
    }
   ],
   "source": [
    "# import math as m\n",
    "import sympy as s\n",
    "\n",
    "''' This program acts as a financial calculator. Use it to solve present value or future value problems!'''\n",
    "\n",
    "'''DISCLAMER: THIS PROGRAM ASSUMES YOU ARE FEEDING IT CASH FLOWS IN A CHRONOLOGICAL MANNER'''\n",
    "\n",
    "\n",
    "problem = int(input(\"\\nPlease input which problem you'd like to solve; a present value (1) or future value (2) problem:\"))\n",
    "\n",
    "while problem != 1 and problem != 2:\n",
    "    print(\"\\nThat is not a valid input for this calculator. Please input either a 1 for present values problems or a 2 for future value problems. \")\n",
    "    problem = int(input(\"\\nPlease input which problem you'd like to solve; a present value (1) or future value (2) problem:\"))\n",
    "\n",
    "\n",
    "if problem == 1:\n",
    "    print(\"\\nPresent Value Problem\\n\")\n",
    "\n",
    "    PV, num_discrete, num_growth, r = getPV()\n",
    "    \n",
    "    for i in range(0,(num_discrete + num_growth)):\n",
    "        if i <= num_discrete:\n",
    "            print(f\"Discrete Forcast #{i+1}: ${PV[i]:,.2f}\")\n",
    "        else:\n",
    "            print(f\"Growth Phase #{i+1 - num_discrete}: ${PV[i - num_discrete]:,.2f}\")\n",
    "    print(f\"\\nTotal Present Value: ${sum(PV):,.2f}\")\n",
    "\n",
    "if problem == 2: \n",
    "    print(\"\\nFuture Value Problem\\n\")\n",
    "\n",
    "    PV, num_discrete, num_growth, r = getPV()\n",
    "\n",
    "    fyears = int(input(\"How many years in the future would you like to project these cash flows? \"))\n",
    "    while fyears <= 0: \n",
    "        print(\"You must pick a postive value.\")\n",
    "        fyears = int(input(\"How many years in the future would you like to project these cash flows? \"))\n",
    "\n",
    "    print(f\"\\nTotal Present Value: ${(sum(PV) * (1 + r)**fyears):,.2f}\")\n",
    "    "
   ]
  },
  {
   "cell_type": "code",
   "execution_count": 32,
   "id": "063e7f5c-6213-4924-809b-323b74f3d9ad",
   "metadata": {},
   "outputs": [],
   "source": [
    "def getPV():\n",
    "    t_d = []\n",
    "    FV_d = []\n",
    "    growth_rates = []\n",
    "    t_g = []\n",
    "    growth_cash_flows= []\n",
    "    FV_g =[]\n",
    "    PV = []\n",
    "    t = 0 \n",
    "\n",
    "    r = float(input(\"Discount Rate (%): \")) / 100\n",
    "\n",
    "    num_discrete = int(input(\"\\nNumber of distinct discrete forecasts: \"))\n",
    "    \n",
    "    while type(num_discrete) != int or num_discrete < 0:\n",
    "        print(\"\\nFor this calculator, number of distinct discrete forecasts must be an integer.\")\n",
    "        num_discrete = int(input(\"\\nNumber of distinct discrete forecasts: \"))\n",
    "    \n",
    "    for i in range(0, num_discrete):\n",
    "        print(f\"\\nPlease provide the following information for discrete forcast number {i+1}.\")\n",
    "        FV_d.append(float(input(\"What is the future value of this cash flow ($): \")))\n",
    "        #t_d.append(int(input(\"In how many years from today is this cash flow received: \")))\n",
    "        t = int(input(\"In how many years from today is this cash flow received: \"))\n",
    "        \n",
    "        while type(t) != int:\n",
    "            print(\"\\nFor this calculator, this value must be an integer.\")\n",
    "            t = int(input(\"In how many years from today is this cash flow received: \"))\n",
    "            \n",
    "        PV.append(FV_d[i] / (1 + r)**t)\n",
    "\n",
    "\n",
    "    \n",
    "    num_growth = int(input(\"\\nNumber of distinct growth periods: \"))\n",
    "    while type(num_growth) != int or num_growth < 0:\n",
    "        print(\"\\nFor this calculator, number of distinct growth phases must be an integer.\")\n",
    "        num_growth = int(input(\"\\nNumber of distinct growth periods: \"))\n",
    "\n",
    "    \n",
    "    if num_growth > 0:\n",
    "        CF0 = float(input(\"Annuity cash flow in first year of growth phase: \"))\n",
    "        for i in range(0, num_growth):\n",
    "            print(f\"\\nPlease provide the following information for distinct growth year {i+1}.\")\n",
    "            growth_rate = float(input(\"Growth Rate (%): \"))/100\n",
    "            \n",
    "            while growth_rate >= r:\n",
    "                print(\"\\nGrowth rate must be less than the discount rate.\")\n",
    "                growth_rate = float(input(\"Growth Rate (%): \"))/100\n",
    "            growth_rates.append(growth_rate)\n",
    "            \n",
    "            if i+1 < num_growth:\n",
    "                t_g = int(input(\"What is the length of this phase (years): \"))\n",
    "                while t_g <= 0: \n",
    "                    print(\"Lengths must be positive values.\")\n",
    "                    t_g = int(input(\"What is the length of this phase (years): \"))\n",
    "                \n",
    "                PV.append((1 / (1 + r)**t)*((CF0 * (1 + growth_rates[i])) / (r - growth_rates[i])) * (1 - ((1 + growth_rates[i]) / (1 + r))**t_g))\n",
    "                t += t_g\n",
    "                CF0 = CF0 * (1 + growth_rates[i])**t_g\n",
    "           \n",
    "            else:\n",
    "                last = int(input(\"Is this last phase an annuity (1) or perpituity (2): \"))\n",
    "                while last != 1 and last != 2:\n",
    "                    print(\"\\nThat is not a valid input for this calculator. Please input either a 1 for annuity or a 2 for perpituity problems.\")\n",
    "                    last = int(input(\"Is this last phase an annuity (1) or perpituity (2): \"))\n",
    "\n",
    "                if last == 1:\n",
    "                    t_g = int(input(\"What is the length of this phase (years): \"))\n",
    "                    while t_g <= 0: \n",
    "                        print(\"Lengths must be positive values.\")\n",
    "                        t_g = int(input(\"What is the length of this phase (years): \"))\n",
    "                    PV.append((1 / (1 + r)**t)*((CF0 * (1 + growth_rates[i])) / (r - growth_rates[i])) * (1 - ((1 + growth_rates[i]) / (1 + r))**t_g))\n",
    "                    t += t_g\n",
    "                else: \n",
    "                    PV.append((1 / (1 + r)**t)*((CF0 * (1 + growth_rates[i])) / (r - growth_rates[i])))\n",
    "    \n",
    "    return(PV, num_discrete, num_growth, r)"
   ]
  }
 ],
 "metadata": {
  "kernelspec": {
   "display_name": "Python 3 (ipykernel)",
   "language": "python",
   "name": "python3"
  },
  "language_info": {
   "codemirror_mode": {
    "name": "ipython",
    "version": 3
   },
   "file_extension": ".py",
   "mimetype": "text/x-python",
   "name": "python",
   "nbconvert_exporter": "python",
   "pygments_lexer": "ipython3",
   "version": "3.12.2"
  }
 },
 "nbformat": 4,
 "nbformat_minor": 5
}
