{
 "cells": [
  {
   "cell_type": "markdown",
   "id": "ac154daa-2f29-4306-a084-165a81a6ba34",
   "metadata": {},
   "source": [
    "### Problem 9"
   ]
  },
  {
   "cell_type": "code",
   "execution_count": 26,
   "id": "87c35ba8-aa21-41a1-9464-11cc1ab7e0b4",
   "metadata": {},
   "outputs": [
    {
     "name": "stdout",
     "output_type": "stream",
     "text": [
      "ATTENTION: This program assumes it is currently 2024. Let's find the Intrinsic Value of a Stock.\n",
      "\n"
     ]
    },
    {
     "name": "stdin",
     "output_type": "stream",
     "text": [
      "What is the Discount Rate (%):  4.8\n"
     ]
    },
    {
     "name": "stdout",
     "output_type": "stream",
     "text": [
      "\n",
      "What stock are you interested in valuing?\n"
     ]
    },
    {
     "name": "stdin",
     "output_type": "stream",
     "text": [
      "Ticker:  wmt\n"
     ]
    },
    {
     "name": "stdout",
     "output_type": "stream",
     "text": [
      "\n",
      "In what year do the dividends stop being discrete? Hit 'enter' if there are no discrete dividends.\n"
     ]
    },
    {
     "name": "stdin",
     "output_type": "stream",
     "text": [
      "Year:  2028\n",
      "What is the cash flow for 2024:  0.83\n",
      "What is the cash flow for 2025:  0.94\n",
      "What is the cash flow for 2026:  1.08\n",
      "What is the cash flow for 2027:  1.18\n",
      "What is the cash flow for 2028:  1.23\n"
     ]
    },
    {
     "name": "stdout",
     "output_type": "stream",
     "text": [
      "\n",
      "How many dividend growth periods? Hit 'enter' if there are none.\n"
     ]
    },
    {
     "name": "stdin",
     "output_type": "stream",
     "text": [
      "Number of Periods:  1\n",
      "\n",
      "Dividend growth rate for this period (%):  3\n"
     ]
    },
    {
     "name": "stdout",
     "output_type": "stream",
     "text": [
      "\n",
      "Based on the given information, wmt has an intrinsic value (based on DDM) of: $61.92.\n",
      "wmt's value of $61.92 is less than the latest price of $67.59. I recommend SELLING wmt.\n",
      "\n",
      "Disclamer: Not a financial advisor.\n"
     ]
    }
   ],
   "source": [
    "#### import yfinance as yf\n",
    "import pandas as pd\n",
    "from datetime import datetime\n",
    "\n",
    "today_date = datetime.today().date()\n",
    "frac = get_fraction_of_year_remaining(today_date)\n",
    "\n",
    "\n",
    "PV = []\n",
    "latestPrice = None\n",
    "\n",
    "print(\"ATTENTION: This program assumes it is currently 2024. Let's find the Intrinsic Value of a Stock.\\n\")\n",
    "\n",
    "while True:\n",
    "    try:\n",
    "        k = float(input(\"What is the Discount Rate (%): \")) / 100\n",
    "        break\n",
    "    except ValueError:\n",
    "        print(\"\\nPlease enter a valid number for the discount rate.\")\n",
    "\n",
    "while latestPrice is None:\n",
    "    ticker = getTicker()\n",
    "    latestPrice = getStockPrice(ticker)\n",
    "    if latestPrice is None:\n",
    "            print(\"I couldn't find that stock! Please try again with a valid stock!\\n\")\n",
    "\n",
    "year1, DIV = getDiscrete(k)\n",
    "getGrowth(k, year1, DIV)\n",
    "getRecommendation(ticker, latestPrice, k, frac)"
   ]
  },
  {
   "cell_type": "code",
   "execution_count": 25,
   "id": "07219c04-3f80-4a45-a78f-49f9d3601458",
   "metadata": {},
   "outputs": [],
   "source": [
    "def getTicker():\n",
    "    print(\"\\nWhat stock are you interested in valuing?\")\n",
    "    ticker = input(\"Ticker: \")\n",
    "    return(ticker)"
   ]
  },
  {
   "cell_type": "code",
   "execution_count": 24,
   "id": "332940cf-73a0-4897-b722-764176b7b086",
   "metadata": {},
   "outputs": [],
   "source": [
    "def getStockPrice(ticker):\n",
    "    stock = yf.Ticker(ticker)\n",
    "    stock_info = stock.history(period='1d')\n",
    "    if not stock_info.empty:\n",
    "        latest_price = stock_info['Close'].iloc[-1]\n",
    "        return latest_price\n",
    "    else:\n",
    "        return None"
   ]
  },
  {
   "cell_type": "code",
   "execution_count": 23,
   "id": "c8526668-62ac-4f46-90fe-07fc12c69395",
   "metadata": {},
   "outputs": [],
   "source": [
    "def getDiscrete(k):\n",
    "    print(\"\\nIn what year do the dividends stop being discrete? Hit 'enter' if there are no discrete dividends.\")\n",
    "    global PV\n",
    "    \n",
    "    while True:\n",
    "        try:\n",
    "            year = input(\"Year: \")\n",
    "            if year == \"\":\n",
    "                break\n",
    "            year = int(year)\n",
    "            if year < 2024:\n",
    "                print(\"\\nPlease enter a valid year.\")\n",
    "            else:\n",
    "                break\n",
    "        except ValueError:\n",
    "            print(\"\\nPlease enter a valid number.\")\n",
    "            \n",
    "    if year == \"\":\n",
    "        PV.append(0)\n",
    "        print(\"\\nNo discrete dividend periods.\")\n",
    "        return(2024, 0)\n",
    "    else:\n",
    "        for i in range(0, (year - 2024) + 1):\n",
    "            while True:\n",
    "                try:\n",
    "                    CF = float(input(f\"What is the cash flow for {2024 + i}: \"))\n",
    "                    break\n",
    "                except ValueError:\n",
    "                    print(\"\\nPlease enter a valid number for the cash flow.\")\n",
    "    \n",
    "            PV.append(CF / (1 + k) ** i)\n",
    "        return (year, CF)"
   ]
  },
  {
   "cell_type": "code",
   "execution_count": 22,
   "id": "b124c941-c64b-47c6-880c-58f4b815e49b",
   "metadata": {},
   "outputs": [],
   "source": [
    "def getGrowth(k, year1, DIV):\n",
    "    print(\"\\nHow many dividend growth periods? Hit 'enter' if there are none.\")\n",
    "    global PV\n",
    "\n",
    "    while True: \n",
    "        try: \n",
    "            periods = input('Number of Periods: ')\n",
    "            if periods == \"\":\n",
    "                break \n",
    "            periods = int(periods)\n",
    "            if periods < 0:\n",
    "                print(\"\\nPlease enter a valid number of periods.\")\n",
    "            else: \n",
    "                break\n",
    "        except ValueError:\n",
    "            print(\"\\nPlease enter a valid number of periods.\")\n",
    "\n",
    "    if periods == \"\":\n",
    "        PV.append(0)\n",
    "        print(\"\\nNo dividend growth periods.\")\n",
    "    else: \n",
    "        for i in range(1, periods+1):\n",
    "            while True:\n",
    "                try: \n",
    "                    g = float(input(\"\\nDividend growth rate for this period (%): \"))\n",
    "                    if g < 0:\n",
    "                        print(\"\\nPlease enter a valid number.\")\n",
    "                    else:\n",
    "                        break \n",
    "                except ValueError: \n",
    "                    print(\"\\nPlease enter a valid number.\")\n",
    "            g = g / 100\n",
    "            if i < periods:\n",
    "                while True:\n",
    "                    try:\n",
    "                        year2 = int(input(\"\\nIn what year does this growth period end? \"))\n",
    "                        if year2 < year1:\n",
    "                            print(\"\\nPlease enter a valid year.\")\n",
    "                        else:\n",
    "                            break\n",
    "                    except ValueError:\n",
    "                        print(\"\\nPlease enter a valid number.\")\n",
    "                \n",
    "                PV.append((1 / (1+k)**(year1 - 2024)) * (((DIV * (1 + g)) / (k - g)) * (1 - ((1 + g) / (1 + k))**(year2 - year1))))\n",
    "                DIV = DIV * (1+g)**(year2 - year1)\n",
    "                year1 = year2\n",
    "            else: \n",
    "                PV.append((1 / (1+k)**(year1 - 2024))*(DIV * (1 + g) / (k - g)))\n",
    "            \n",
    "                    "
   ]
  },
  {
   "cell_type": "code",
   "execution_count": 21,
   "id": "e8661553-cc85-4588-9bf3-0e3bd2d67aaf",
   "metadata": {},
   "outputs": [],
   "source": [
    "def getRecommendation(ticker, latestPrice, k, year_frac):\n",
    "    global PV\n",
    "    value = sum(PV) / (1+k)**(year_frac)\n",
    "    print(f\"\\nBased on the given information, {ticker} has an intrinsic value (based on DDM) of: ${value:,.2f}.\")\n",
    "    \n",
    "    if int(value) == int(latestPrice):\n",
    "        print(f\"{ticker}'s value of ${value:,.2f} is roughly equal to the latest price of ${latestPrice:,.2f}. I recommend HOLDING {ticker}.\")\n",
    "    \n",
    "    elif value > latestPrice:\n",
    "         print(f\"{ticker}'s value of ${value:,.2f} is more than the latest price of ${latestPrice:,.2f}. I recommend BUYING {ticker}.\")\n",
    "        \n",
    "    elif value < latestPrice:\n",
    "        print(f\"{ticker}'s value of ${value:,.2f} is less than the latest price of ${latestPrice:,.2f}. I recommend SELLING {ticker}.\")\n",
    "    print(\"\\nDisclamer: Not a financial advisor.\")"
   ]
  },
  {
   "cell_type": "code",
   "execution_count": 20,
   "id": "00d3960f-199e-4c3c-938b-7dd3d6e56180",
   "metadata": {},
   "outputs": [],
   "source": [
    "def get_fraction_of_year_remaining(today_date):\n",
    "    # Ensure today_date is a datetime object\n",
    "    today_date = datetime.combine(today_date, datetime.min.time())\n",
    "    \n",
    "    # Get the last day of the year\n",
    "    end_of_year = datetime(today_date.year, 12, 31)\n",
    "    \n",
    "    # Calculate the number of days remaining in the year\n",
    "    days_remaining = (end_of_year - today_date).days\n",
    "    \n",
    "    # Calculate the total number of days in the year\n",
    "    is_leap_year = today_date.year % 4 == 0 and (today_date.year % 100 != 0 or today_date.year % 400 == 0)\n",
    "    total_days_in_year = 366 if is_leap_year else 365\n",
    "    \n",
    "    # Calculate the fraction of the year remaining\n",
    "    fraction_of_year_remaining = days_remaining / total_days_in_year\n",
    "    return fraction_of_year_remaining"
   ]
  }
 ],
 "metadata": {
  "kernelspec": {
   "display_name": "Python 3 (ipykernel)",
   "language": "python",
   "name": "python3"
  },
  "language_info": {
   "codemirror_mode": {
    "name": "ipython",
    "version": 3
   },
   "file_extension": ".py",
   "mimetype": "text/x-python",
   "name": "python",
   "nbconvert_exporter": "python",
   "pygments_lexer": "ipython3",
   "version": "3.12.2"
  }
 },
 "nbformat": 4,
 "nbformat_minor": 5
}
