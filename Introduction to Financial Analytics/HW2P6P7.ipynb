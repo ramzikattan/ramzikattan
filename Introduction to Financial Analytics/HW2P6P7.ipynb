{
 "cells": [
  {
   "cell_type": "markdown",
   "id": "a00618b5-5fef-4954-9ef6-5cd92b213cea",
   "metadata": {},
   "source": [
    "### Problem 6 and 7"
   ]
  },
  {
   "cell_type": "code",
   "execution_count": 60,
   "id": "0c119a63-ffcf-4c1e-9d0c-523ee36a5bd3",
   "metadata": {},
   "outputs": [
    {
     "name": "stdout",
     "output_type": "stream",
     "text": [
      "\n",
      "Coupon-Paying Bonds\n"
     ]
    },
    {
     "name": "stdin",
     "output_type": "stream",
     "text": [
      "\n",
      "Type [1] for Annual Compounding or [Enter] for Default Semi-Annual Compounding:  \n",
      "Par Value ($) [Enter for Defualt $1,000]:  \n"
     ]
    },
    {
     "name": "stdout",
     "output_type": "stream",
     "text": [
      "\n",
      "Semi-Annual Interest Payments\n"
     ]
    },
    {
     "name": "stdin",
     "output_type": "stream",
     "text": [
      "Coupon Interest Rate (%):  8\n",
      "Yield to Maturity (%):  6\n",
      "Term to Maturity (Yrs):  5\n"
     ]
    },
    {
     "name": "stdout",
     "output_type": "stream",
     "text": [
      "\n",
      "The bond value is: $1,085.30.\n",
      "\n",
      "The duration is 4.2543 years and the modified duration is 4.1304 years.\n",
      "\n"
     ]
    },
    {
     "data": {
      "image/png": "[encoded data removed]",
      "text/plain": [
       "<Figure size 640x480 with 1 Axes>"
      ]
     },
     "metadata": {},
     "output_type": "display_data"
    }
   ],
   "source": [
    "import matplotlib.pyplot as plt\n",
    "print(\"\\nCoupon-Paying Bonds\")\n",
    "type = input(\"\\nType [1] for Annual Compounding or [Enter] for Default Semi-Annual Compounding: \")\n",
    "Par = input(\"Par Value ($) [Enter for Defualt $1,000]: \")\n",
    "\n",
    "if type == \"\":\n",
    "    type = 2\n",
    "else:\n",
    "    type = int(type)\n",
    "\n",
    "if Par == \"\":\n",
    "    Par = 1000.00\n",
    "else:\n",
    "    Par = float(Par)\n",
    "    \n",
    "if type == 1:\n",
    "    BVlist = []\n",
    "    print(\"\\nAnnual Interest Payments\")\n",
    "    CIR = float(input(\"Coupon Interest Rate (%): \")) / 100\n",
    "    r = float(input(\"Yield to Maturity (%): \")) / 100\n",
    "    n = int(input(\"Term to Maturity (Yrs): \"))\n",
    "    BV = ((CIR * Par / r) * (1 - (1 / (1 + r)**n))) + (Par / (1 + r)**n)\n",
    "    print(f\"\\nThe bond value is: ${BV:,.2f}.\\n\")\n",
    "    for YTM in range(4, 16):\n",
    "        BVlist.append(((CIR * Par / (YTM / 100)) * (1 - (1 / (1 + (YTM / 100))**n))) + (Par / (1 + (YTM / 100))**n))\n",
    "\n",
    "if type == 2: \n",
    "    BVlist = []\n",
    "    print(\"\\nSemi-Annual Interest Payments\")\n",
    "    CIR = float(input(\"Coupon Interest Rate (%): \")) / 200\n",
    "    r = float(input(\"Yield to Maturity (%): \")) / 200\n",
    "    n = int(input(\"Term to Maturity (Yrs): \")) * 2\n",
    "    BV = ((CIR * Par / r) * (1 - (1 / (1 + r)**n))) + (Par / (1 + r)**n)\n",
    "    print(f\"\\nThe bond value is: ${BV:,.2f}.\\n\")\n",
    "    for YTM in range(4, 16):\n",
    "        BVlist.append(((CIR * Par / (YTM  /200)) * (1 - (1 / (1 + (YTM / 200))**n))) + (Par / (1 + (YTM / 200))**n))\n",
    "\n",
    "duration = 0\n",
    "for i in range(1, n + 1):\n",
    "    if i == n:\n",
    "        CF = (Par * (1 + CIR))\n",
    "        DCF = CF / (1 + r)**i\n",
    "    else: \n",
    "        CF = Par * CIR\n",
    "        DCF = CF / (1 + r)**i\n",
    "    duration += (DCF * i) / BV\n",
    "\n",
    "if type == 2: \n",
    "    duration = duration / 2\n",
    "modduration = duration / (1 + r)\n",
    "\n",
    "print(f\"The duration is {duration:.4f} years and the modified duration is {modduration:.4f} years.\\n\")\n",
    "\n",
    "plt.plot(list(range(4, 16)), BVlist, marker = \"o\", linestyle = \"none\")\n",
    "plt.title(\"Bond Value as a Function of YTM\")\n",
    "plt.xlabel(\"YTM (%)\")\n",
    "plt.ylabel(\"Bond Value ($)\")\n",
    "\n",
    "plt.show()\n"
   ]
  },
  {
   "cell_type": "code",
   "execution_count": 15,
   "id": "3eae18c2-ef61-48d7-afe0-93125462930a",
   "metadata": {},
   "outputs": [
    {
     "data": {
      "text/plain": [
       "[4, 5, 6, 7, 8, 9, 10, 11, 12, 13, 14, 15]"
      ]
     },
     "execution_count": 15,
     "metadata": {},
     "output_type": "execute_result"
    }
   ],
   "source": [
    "list(range(4, 16))"
   ]
  },
  {
   "cell_type": "code",
   "execution_count": null,
   "id": "f8080254-6758-4b16-b09f-f8fbb796209b",
   "metadata": {},
   "outputs": [],
   "source": [
    "((CIR * Par / YTM /200) * (1 - (1 / (1 + YTM /200)**n))) + (Par / (1 + YTM /200)**n)"
   ]
  }
 ],
 "metadata": {
  "kernelspec": {
   "display_name": "Python 3 (ipykernel)",
   "language": "python",
   "name": "python3"
  },
  "language_info": {
   "codemirror_mode": {
    "name": "ipython",
    "version": 3
   },
   "file_extension": ".py",
   "mimetype": "text/x-python",
   "name": "python",
   "nbconvert_exporter": "python",
   "pygments_lexer": "ipython3",
   "version": "3.12.2"
  }
 },
 "nbformat": 4,
 "nbformat_minor": 5
}
